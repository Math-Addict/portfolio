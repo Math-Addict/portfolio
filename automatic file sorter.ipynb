{
 "cells": [
  {
   "cell_type": "markdown",
   "id": "2c87fafb-64d5-4d0e-9818-61e28ae1286a",
   "metadata": {},
   "source": [
    "## Automatic File Sorter"
   ]
  },
  {
   "cell_type": "code",
   "execution_count": 54,
   "id": "79475609-3307-4be0-a301-d26d22d4ad68",
   "metadata": {},
   "outputs": [],
   "source": [
    "import os,shutil\n",
    "\n",
    "path = r\"D:\\data analysis\\python\\project 3\\\\\"   #the folder we want to order\n",
    "folder_names = ['csv Files','txt Files','png Files']  #the folder names we want the files end in\n",
    "#make the folders if they dont already exists\n",
    "for folder in folder_names:\n",
    "    if not os.path.exists(path + folder):  \n",
    "        os.makedirs(path + folder)\n",
    "        \n",
    "file_names = os.listdir(path)   # get all the files in the folder as list\n",
    "\n",
    "# iterate over all the files and put them in the responding folder.\n",
    "\n",
    "for file in file_names:\n",
    "    if not os.path.isdir(path + file):\n",
    "        name,Type = file.lower().split('.')\n",
    "        if Type not in ['csv','txt','png']:\n",
    "            continue\n",
    "        if not os.path.exists(f\"{path}{Type} Files\\\\{file}\"):\n",
    "            shutil.move(path + file,f\"{path}{Type} Files\\\\{file}\")"
   ]
  },
  {
   "cell_type": "code",
   "execution_count": null,
   "id": "bd25e599-d267-4385-903c-46db2ada6aeb",
   "metadata": {},
   "outputs": [],
   "source": []
  }
 ],
 "metadata": {
  "kernelspec": {
   "display_name": "Python 3 (ipykernel)",
   "language": "python",
   "name": "python3"
  },
  "language_info": {
   "codemirror_mode": {
    "name": "ipython",
    "version": 3
   },
   "file_extension": ".py",
   "mimetype": "text/x-python",
   "name": "python",
   "nbconvert_exporter": "python",
   "pygments_lexer": "ipython3",
   "version": "3.12.4"
  }
 },
 "nbformat": 4,
 "nbformat_minor": 5
}
