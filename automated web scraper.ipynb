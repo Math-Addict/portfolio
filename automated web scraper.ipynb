{
 "cells": [
  {
   "cell_type": "markdown",
   "id": "12c03df9-fb9b-4cbf-b589-61bd6680b1a7",
   "metadata": {},
   "source": [
    "## Automated Web Scraper"
   ]
  },
  {
   "cell_type": "code",
   "execution_count": 69,
   "id": "a90c52b1-7645-4414-8533-d45ba7ce7b12",
   "metadata": {},
   "outputs": [],
   "source": []
  },
  {
   "cell_type": "code",
   "execution_count": 75,
   "id": "82432d7b-829f-4593-a15f-ac6075e4c6aa",
   "metadata": {},
   "outputs": [],
   "source": [
    "from bs4 import BeautifulSoup\n",
    "import requests\n",
    "import pandas as pd\n",
    "from datetime import datetime\n",
    "import os\n",
    "import time\n",
    "\n",
    "\n",
    "def automated_crypto_pull():\n",
    "    url = \"https://coinmarketcap.com/currencies/bitcoin/\"\n",
    "    \n",
    "    page = requests.get(url)\n",
    "    \n",
    "    soup = BeautifulSoup(page.text,'html')\n",
    "    \n",
    "    crypto_name = soup.find('span',class_ = \"sc-65e7f566-0 lsTl\").contents[0].strip()\n",
    "    \n",
    "    crypto_price = soup.find('span',class_ = \"sc-65e7f566-0 clvjgF base-text\").text.replace('$','')\n",
    "    \n",
    "    date_time = datetime.now().strftime(\"%Y-%m-%d %H:%M\")\n",
    "    dict = {'Crypto Name' :crypto_name, 'Price' :crypto_price,'TimeStamp':date_time}\n",
    "    \n",
    "    df = pd.DataFrame([dict])\n",
    "    \n",
    "    \n",
    "    if os.path.exists(r\"D:\\data analysis\\python\\crypto web puller\\Crypto_Automated_Pull.csv\"):\n",
    "        df.to_csv(r\"D:\\data analysis\\python\\crypto web puller\\Crypto_Automated_Pull.csv\", mode = 'a', header = False, index = False)\n",
    "    else:\n",
    "        df.to_csv(r\"D:\\data analysis\\python\\crypto web puller\\Crypto_Automated_Pull.csv\", index = False)\n",
    "\n",
    "while True:\n",
    "    automated_crypto_pull()\n",
    "    time.sleep(3600)"
   ]
  },
  {
   "cell_type": "code",
   "execution_count": null,
   "id": "9bf42725-ce4b-4f4c-a41b-0cb322651e1c",
   "metadata": {},
   "outputs": [],
   "source": []
  },
  {
   "cell_type": "code",
   "execution_count": 73,
   "id": "5617f2bd-e1b2-40d5-a1ff-3d680fb4cc4c",
   "metadata": {},
   "outputs": [],
   "source": []
  },
  {
   "cell_type": "code",
   "execution_count": null,
   "id": "21b229f0-fce5-4c66-ab38-99cc51fab6d8",
   "metadata": {},
   "outputs": [],
   "source": []
  }
 ],
 "metadata": {
  "kernelspec": {
   "display_name": "Python 3 (ipykernel)",
   "language": "python",
   "name": "python3"
  },
  "language_info": {
   "codemirror_mode": {
    "name": "ipython",
    "version": 3
   },
   "file_extension": ".py",
   "mimetype": "text/x-python",
   "name": "python",
   "nbconvert_exporter": "python",
   "pygments_lexer": "ipython3",
   "version": "3.12.4"
  }
 },
 "nbformat": 4,
 "nbformat_minor": 5
}
